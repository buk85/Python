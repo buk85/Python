{
 "cells": [
  {
   "cell_type": "markdown",
   "metadata": {},
   "source": [
    "# Assignments for \"What are Variables?\" "
   ]
  },
  {
   "cell_type": "markdown",
   "metadata": {},
   "source": [
    "- Define two variables as `x` and `y`. Assign `1` to `x` and `'1'` to `y`. Then check if two variables have the same value and type."
   ]
  },
  {
   "cell_type": "code",
   "execution_count": 6,
   "metadata": {},
   "outputs": [
    {
     "name": "stdout",
     "output_type": "stream",
     "text": [
      "Tip: False , Deger: False \n"
     ]
    }
   ],
   "source": [
    "x= 1 \n",
    "y='1' \n",
    "tip = type(x)==type(y) \n",
    "deger = x==y \n",
    "print(\"Tip: {0} , Deger: {1} \" .format(tip,deger)) \n"
   ]
  },
  {
   "cell_type": "markdown",
   "metadata": {},
   "source": [
    "- Change the type of variable `y` and make the two variables the same."
   ]
  },
  {
   "cell_type": "code",
   "execution_count": 7,
   "metadata": {},
   "outputs": [
    {
     "name": "stdout",
     "output_type": "stream",
     "text": [
      "Tip: True , Deger: True \n"
     ]
    }
   ],
   "source": [
    "y=int(y)\n",
    "tip = type(x)==type(y) \n",
    "deger = x==y \n",
    "print(\"Tip: {0} , Deger: {1} \" .format(tip,deger)) "
   ]
  },
  {
   "cell_type": "code",
   "execution_count": null,
   "metadata": {},
   "outputs": [],
   "source": []
  }
 ],
 "metadata": {
  "kernelspec": {
   "display_name": "Python 3",
   "language": "python",
   "name": "python3"
  },
  "language_info": {
   "codemirror_mode": {
    "name": "ipython",
    "version": 3
   },
   "file_extension": ".py",
   "mimetype": "text/x-python",
   "name": "python",
   "nbconvert_exporter": "python",
   "pygments_lexer": "ipython3",
   "version": "3.7.0"
  }
 },
 "nbformat": 4,
 "nbformat_minor": 4
}
