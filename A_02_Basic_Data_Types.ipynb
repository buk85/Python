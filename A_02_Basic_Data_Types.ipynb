{
 "cells": [
  {
   "cell_type": "markdown",
   "metadata": {},
   "source": [
    "# Assignments for \"Basic Data Types\" "
   ]
  },
  {
   "cell_type": "markdown",
   "metadata": {},
   "source": [
    "- Suppose you invested in Bitcoin at the end of 2017 when Bitcoin gained a lot of value. What would be your money at the end of a week if you had invested \\$1000 with an average daily increase of 12\\% ? You can solve the problem using Python."
   ]
  },
  {
   "cell_type": "code",
   "execution_count": 1,
   "metadata": {},
   "outputs": [
    {
     "name": "stdout",
     "output_type": "stream",
     "text": [
      "Capital: 1000 , Ending_Value: 2210.6814074060812 , Final Growth Rate: 0.1200000000000001\n"
     ]
    }
   ],
   "source": [
    "##### Help\n",
    "\n",
    "# Create a variable capital ($1000)\n",
    "capital=1000\n",
    "# Create a variable for daily growth (12%)\n",
    "daily_growth=0.12\n",
    "# Create a variable for period (7)\n",
    "period=7 \n",
    "# Calculate the final growth rate\n",
    "ending_value = capital * (1+daily_growth)**period \n",
    "fgr = (ending_value/capital)**(1/period) -1 \n",
    "# Calculate result\n",
    "print(\"Capital: {} , Ending_Value: {} , Final Growth Rate: {}\".format(capital,ending_value,fgr))\n",
    "# Print result "
   ]
  },
  {
   "cell_type": "markdown",
   "metadata": {},
   "source": [
    "- Print the text in quotes with Python. However, you must get the numbers from variables using `.format()` notation. <br> Because the text is long, you might consider writing in two lines:\n",
    "\n",
    "        `\"When we buy bitcoin with 1000 USD at the beginning of the week, we would earn 1210.68 USD at the end of the week, with an average gain of 12\\%.\"`"
   ]
  },
  {
   "cell_type": "code",
   "execution_count": 2,
   "metadata": {},
   "outputs": [
    {
     "name": "stdout",
     "output_type": "stream",
     "text": [
      "When we buy bitcoin with 1000 USD at the beginning of the week, we would earn 1210.68 USD at the end of the week, \n",
      "      with an average gain of 12\\%.\n"
     ]
    }
   ],
   "source": [
    "print(\"\"\"When we buy bitcoin with {0} USD at the beginning of the week, we would earn {1:.2f} USD at the end of the week, \n",
    "      with an average gain of {2:.0f}\\%.\"\"\".format(capital,ending_value-capital,fgr*100))"
   ]
  },
  {
   "cell_type": "markdown",
   "metadata": {},
   "source": [
    "- Get the temperature in Fahrenheit from user and write a code to convert it to Celcius. For conversion, you can use this formula: C = (5/9) * (F - 32)\n",
    "\n",
    "        Enter the temperature in Fahrenheit: \n",
    "        user --> 26\n",
    "        output --> Temperature (C) : -3.33"
   ]
  },
  {
   "cell_type": "code",
   "execution_count": 1,
   "metadata": {},
   "outputs": [
    {
     "name": "stdout",
     "output_type": "stream",
     "text": [
      "Please tell me the temperature: 100\n",
      "then the temperature in Celcius would be:  37.77777777777778\n"
     ]
    }
   ],
   "source": [
    "fahrenheit = int(input(\"Please tell me the temperature: \"))\n",
    "Celcius = (5/9)*(fahrenheit-32) \n",
    "print(\"then the temperature in Celcius would be: \",Celcius)"
   ]
  },
  {
   "cell_type": "markdown",
   "metadata": {},
   "source": [
    "- Get a three digit number the from user and calculate the sum of the digits in the integer.\n",
    "\n",
    "        user --> 365\n",
    "        output --> \"The sum of digits in the number is 14"
   ]
  },
  {
   "cell_type": "code",
   "execution_count": 2,
   "metadata": {},
   "outputs": [
    {
     "name": "stdout",
     "output_type": "stream",
     "text": [
      "Give me the first side length: 6\n",
      "Give me the second side length: 8\n",
      "The hypothenus will be:  10.0\n"
     ]
    }
   ],
   "source": [
    "x = int(input(\"Give me the first side length: \"))\n",
    "y = int(input(\"Give me the second side length: \"))\n",
    "#z = (x**2+y**2)**0.5 \n",
    "print(\"The hypothenus will be: \", (x**2+y**2)**0.5 )"
   ]
  },
  {
   "cell_type": "markdown",
   "metadata": {},
   "source": [
    "- Write some code to calculate the hypotenuse of a right angled triangle. Get the side lengths from the user.\n",
    "\n",
    "        user --> first side lenth : 6\n",
    "        user --> first side lenth : 8\n",
    "        output --> \"The length of the hypotenuse is 10"
   ]
  }
 ],
 "metadata": {
  "kernelspec": {
   "display_name": "Python 3",
   "language": "python",
   "name": "python3"
  },
  "language_info": {
   "codemirror_mode": {
    "name": "ipython",
    "version": 3
   },
   "file_extension": ".py",
   "mimetype": "text/x-python",
   "name": "python",
   "nbconvert_exporter": "python",
   "pygments_lexer": "ipython3",
   "version": "3.7.0"
  }
 },
 "nbformat": 4,
 "nbformat_minor": 4
}
