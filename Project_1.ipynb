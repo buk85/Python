{
 "cells": [
  {
   "cell_type": "code",
   "execution_count": 26,
   "metadata": {},
   "outputs": [],
   "source": [
    "import csv\n",
    "\n",
    "class myexcel:\n",
    "\n",
    "    def __init__(self,file_to_open):\n",
    "        self.file_to_open=file_to_open      \n",
    "        self.data = self.FileReader()\n",
    "        self.colum_name = self.sutun_Adlari()\n",
    "        \n",
    "        \n",
    "    def FileReader(self): \n",
    "        listt=[]     \n",
    "        with open(self.file_to_open, \"r\") as file:\n",
    "            employees=csv.reader(file,delimiter=',')\n",
    "            for row in employees:\n",
    "                listt.append(row)\n",
    "                 \n",
    "        return listt\n",
    "\n",
    "    def sutun_Adlari(self): \n",
    "        listt=[]   \n",
    "        x=self.data[0]\n",
    "        for i in x: \n",
    "            #print(i) \n",
    "            listt.append(i) \n",
    "                \n",
    "        return listt                  \n",
    "        \n",
    "    def boyut(self):\n",
    "             \n",
    "        print(\"({},{})\".format(len(self.data)-1,len(self.data[0])))\n",
    "        \n",
    "    def sutunyazdir(self):\n",
    "        column_content=[]\n",
    "        choosen_column= input(\"Choose from these columns: {}\".format(self.sutun_Adlari()))\n",
    "        choosen_column_index=self.data[0].index(choosen_column)\n",
    "        \n",
    "        \n",
    "        for row in range(len(self.data)):\n",
    "            \n",
    "            column_content.append(self.data[row][choosen_column_index])\n",
    "        \n",
    "        column_content = column_content[1:]\n",
    "               \n",
    "        print(column_content) \n",
    "        \n",
    "    def benzersiz(self):\n",
    "        unique_list=[]  \n",
    "        column_content=[]\n",
    "        choosen_column= input(\"Choose from these columns: {}\".format(self.sutun_Adlari()))\n",
    "        choosen_column_index=self.data[0].index(choosen_column)\n",
    "        \n",
    "        \n",
    "        for row in range(len(self.data)):\n",
    "            \n",
    "            column_content.append(self.data[row][choosen_column_index])\n",
    "        \n",
    "        column_content = column_content[1:]       \n",
    "         \n",
    "        for e in column_content: \n",
    "            if e not in unique_list :  \n",
    "                unique_list.append(e) \n",
    "\n",
    "        return unique_list\n",
    "\n",
    "    def benzersiz_adet(self): \n",
    "        \n",
    "        unique_list=[]\n",
    "        unique_list=self.benzersiz()\n",
    "        print(len(unique_list))\n",
    "        \n",
    "    def sutun_tipi(self):\n",
    "        \n",
    "        #columnless = self.data[1:] \n",
    "        for i in self.data[0]:\n",
    "            print(i+\" : \"+str(type(i)))\n",
    "    \n",
    "    "
   ]
  },
  {
   "cell_type": "code",
   "execution_count": 27,
   "metadata": {},
   "outputs": [],
   "source": [
    "a= myexcel(\"employee.csv\")\n",
    "#a.data\n",
    "#a.colum_name\n",
    "#a.sutun_Adlari()\n",
    "#a.boyut()\n",
    "#a.sutunyazdir()\n",
    "#a.benzersiz()"
   ]
  },
  {
   "cell_type": "code",
   "execution_count": 4,
   "metadata": {},
   "outputs": [
    {
     "data": {
      "text/plain": [
       "['Name', 'Department', 'BornIn', 'BirthDate']"
      ]
     },
     "execution_count": 4,
     "metadata": {},
     "output_type": "execute_result"
    }
   ],
   "source": [
    "a.sutun_Adlari()"
   ]
  },
  {
   "cell_type": "code",
   "execution_count": 5,
   "metadata": {},
   "outputs": [
    {
     "name": "stdin",
     "output_type": "stream",
     "text": [
      "Choose from these columns: ['Name', 'Department', 'BornIn', 'BirthDate'] Name\n"
     ]
    },
    {
     "name": "stdout",
     "output_type": "stream",
     "text": [
      "['Alice', 'John', 'Bob', 'Tim', 'Jane', 'Marie']\n"
     ]
    }
   ],
   "source": [
    "a.sutunyazdir()"
   ]
  },
  {
   "cell_type": "code",
   "execution_count": 6,
   "metadata": {},
   "outputs": [
    {
     "name": "stdin",
     "output_type": "stream",
     "text": [
      "Choose from these columns: ['Name', 'Department', 'BornIn', 'BirthDate'] Department\n"
     ]
    },
    {
     "name": "stdout",
     "output_type": "stream",
     "text": [
      "['IT', 'Sales']\n"
     ]
    }
   ],
   "source": [
    "a.benzersiz()"
   ]
  },
  {
   "cell_type": "code",
   "execution_count": 12,
   "metadata": {},
   "outputs": [
    {
     "name": "stdin",
     "output_type": "stream",
     "text": [
      "Choose from these columns: ['Name', 'Department', 'BornIn', 'BirthDate'] Department\n"
     ]
    },
    {
     "name": "stdout",
     "output_type": "stream",
     "text": [
      "2\n"
     ]
    }
   ],
   "source": [
    "a.benzersiz_adet()"
   ]
  },
  {
   "cell_type": "code",
   "execution_count": 25,
   "metadata": {},
   "outputs": [
    {
     "name": "stdout",
     "output_type": "stream",
     "text": [
      "Name - <class 'str'>\n",
      "Department - <class 'str'>\n",
      "BornIn - <class 'str'>\n",
      "BirthDate - <class 'str'>\n"
     ]
    }
   ],
   "source": [
    "a.sutun_tipi()"
   ]
  },
  {
   "cell_type": "markdown",
   "metadata": {},
   "source": [
    "a.sutunyazdir()"
   ]
  },
  {
   "cell_type": "code",
   "execution_count": 8,
   "metadata": {},
   "outputs": [
    {
     "name": "stdout",
     "output_type": "stream",
     "text": [
      "Name\n",
      "Department\n",
      "BornIn\n",
      "BirthDate\n"
     ]
    },
    {
     "name": "stdin",
     "output_type": "stream",
     "text": [
      "Choose from these columns: ['Name', 'Department', 'BornIn', 'BirthDate'] Name\n"
     ]
    },
    {
     "data": {
      "text/plain": [
       "'Name'"
      ]
     },
     "execution_count": 8,
     "metadata": {},
     "output_type": "execute_result"
    }
   ],
   "source": []
  },
  {
   "cell_type": "code",
   "execution_count": null,
   "metadata": {},
   "outputs": [],
   "source": []
  }
 ],
 "metadata": {
  "kernelspec": {
   "display_name": "Python 3",
   "language": "python",
   "name": "python3"
  },
  "language_info": {
   "codemirror_mode": {
    "name": "ipython",
    "version": 3
   },
   "file_extension": ".py",
   "mimetype": "text/x-python",
   "name": "python",
   "nbconvert_exporter": "python",
   "pygments_lexer": "ipython3",
   "version": "3.7.0"
  }
 },
 "nbformat": 4,
 "nbformat_minor": 2
}
