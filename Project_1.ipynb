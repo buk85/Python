{
 "cells": [
  {
   "cell_type": "code",
   "execution_count": 1,
   "metadata": {},
   "outputs": [],
   "source": [
    "import csv\n",
    "\n",
    "class myexcel:\n",
    "\n",
    "    def __init__(self,file_to_open):\n",
    "        self.file_to_open=file_to_open      \n",
    "        self.data = self.FileReader()\n",
    "        self.colum_name = self.sutun_Adlari()\n",
    "        \n",
    "        \n",
    "    def FileReader(self): \n",
    "        listt=[]     \n",
    "        with open(self.file_to_open, \"r\") as file:\n",
    "            employees=csv.reader(file,delimiter=',')\n",
    "            for row in employees:\n",
    "                listt.append(row)\n",
    "                 \n",
    "        return listt\n",
    "\n",
    "    def sutun_Adlari(self): \n",
    "        listt=[]   \n",
    "        x=self.data[0]\n",
    "        for i in x: \n",
    "            #print(i) \n",
    "            listt.append(i) \n",
    "                \n",
    "        return listt                  \n",
    "        \n",
    "    def boyut(self):\n",
    "             \n",
    "        print(\"({},{})\".format(len(self.data)-1,len(self.data[0])))\n",
    "        \n",
    "    def sutunyazdir(self):\n",
    "        column_content=[]\n",
    "        choosen_column= input(\"Choose from these columns: {}\".format(self.sutun_Adlari()))\n",
    "        choosen_column_index=self.data[0].index(choosen_column)\n",
    "        \n",
    "        \n",
    "        for row in range(len(self.data)):\n",
    "            \n",
    "            column_content.append(self.data[row][choosen_column_index])\n",
    "        \n",
    "        column_content = column_content[1:]\n",
    "               \n",
    "        print(column_content) \n",
    "        \n",
    "    def benzersiz(self):\n",
    "        unique_list=[]  \n",
    "        column_content=[]\n",
    "        choosen_column= input(\"Choose from these columns: {}\".format(self.sutun_Adlari()))\n",
    "        choosen_column_index=self.data[0].index(choosen_column)\n",
    "        \n",
    "        \n",
    "        for row in range(len(self.data)):\n",
    "            \n",
    "            column_content.append(self.data[row][choosen_column_index])\n",
    "        \n",
    "        column_content = column_content[1:]       \n",
    "         \n",
    "        for e in column_content: \n",
    "            if e not in unique_list :  \n",
    "                unique_list.append(e) \n",
    "\n",
    "        return unique_list\n",
    "\n",
    "    def benzersiz_adet(self): \n",
    "        \n",
    "        unique_list=[]\n",
    "        unique_list=self.benzersiz()\n",
    "        print(len(unique_list))\n",
    "        \n",
    "    def sutun_tipi(self):\n",
    "        \n",
    "        #columnless = self.data[1:] \n",
    "        for i in self.data[0]:\n",
    "            print(i+\" : \"+str(type(i)))\n",
    "    \n",
    "    def ortalama(self): \n",
    "        is_digi = []\n",
    "        for i in self.data[1]:\n",
    "            if i.isdigit() : \n",
    "                y = self.data[1].index(i)\n",
    "                is_digi.append(y) \n",
    "        data2 = self.data[1:] \n",
    "        ortalama=[]\n",
    "        for x in is_digi: \n",
    "            for row in data2[x]:\n",
    "                data2[x]=int(data2[x])\n",
    "                ortalama.append(data2[x])\n",
    "         \n",
    "        \n",
    "        return ortalama.mean() \n",
    "        \n",
    "        #print(i+\" : \"+str(type(i)))"
   ]
  },
  {
   "cell_type": "code",
   "execution_count": 2,
   "metadata": {},
   "outputs": [
    {
     "data": {
      "text/plain": [
       "[['Name', 'Department', 'BornIn', 'BirthDate'],\n",
       " ['Alice', 'IT', '1985', 'New York'],\n",
       " ['John', 'Sales', '1969', 'Chicago'],\n",
       " ['Bob', 'Sales', '1992', 'Boston'],\n",
       " ['Tim', 'IT', '1984', 'Seattle'],\n",
       " ['Jane', 'Sales', '1975', 'Los Angeles'],\n",
       " ['Marie', 'IT', '1971', 'San Francisco']]"
      ]
     },
     "execution_count": 2,
     "metadata": {},
     "output_type": "execute_result"
    }
   ],
   "source": [
    "a= myexcel(\"employee.csv\")\n",
    "a.data\n",
    "\n",
    "\n",
    "#a.colum_name\n",
    "#a.sutun_Adlari()\n",
    "#a.boyut()\n",
    "#a.sutunyazdir()\n",
    "#a.benzersiz()"
   ]
  },
  {
   "cell_type": "code",
   "execution_count": 28,
   "metadata": {},
   "outputs": [
    {
     "data": {
      "text/plain": [
       "[['Alice', 'IT', '1985', 'New York']]"
      ]
     },
     "execution_count": 28,
     "metadata": {},
     "output_type": "execute_result"
    }
   ],
   "source": [
    "a.data[1:]"
   ]
  },
  {
   "cell_type": "code",
   "execution_count": 4,
   "metadata": {},
   "outputs": [
    {
     "data": {
      "text/plain": [
       "['Name', 'Department', 'BornIn', 'BirthDate']"
      ]
     },
     "execution_count": 4,
     "metadata": {},
     "output_type": "execute_result"
    }
   ],
   "source": [
    "a.sutun_Adlari()"
   ]
  },
  {
   "cell_type": "code",
   "execution_count": 5,
   "metadata": {},
   "outputs": [
    {
     "name": "stdin",
     "output_type": "stream",
     "text": [
      "Choose from these columns: ['Name', 'Department', 'BornIn', 'BirthDate'] Name\n"
     ]
    },
    {
     "name": "stdout",
     "output_type": "stream",
     "text": [
      "['Alice', 'John', 'Bob', 'Tim', 'Jane', 'Marie']\n"
     ]
    }
   ],
   "source": [
    "a.sutunyazdir()"
   ]
  },
  {
   "cell_type": "code",
   "execution_count": 6,
   "metadata": {},
   "outputs": [
    {
     "name": "stdin",
     "output_type": "stream",
     "text": [
      "Choose from these columns: ['Name', 'Department', 'BornIn', 'BirthDate'] Department\n"
     ]
    },
    {
     "name": "stdout",
     "output_type": "stream",
     "text": [
      "['IT', 'Sales']\n"
     ]
    }
   ],
   "source": [
    "a.benzersiz()"
   ]
  },
  {
   "cell_type": "code",
   "execution_count": 12,
   "metadata": {},
   "outputs": [
    {
     "name": "stdin",
     "output_type": "stream",
     "text": [
      "Choose from these columns: ['Name', 'Department', 'BornIn', 'BirthDate'] Department\n"
     ]
    },
    {
     "name": "stdout",
     "output_type": "stream",
     "text": [
      "2\n"
     ]
    }
   ],
   "source": [
    "a.benzersiz_adet()"
   ]
  },
  {
   "cell_type": "code",
   "execution_count": 25,
   "metadata": {},
   "outputs": [
    {
     "name": "stdout",
     "output_type": "stream",
     "text": [
      "Name - <class 'str'>\n",
      "Department - <class 'str'>\n",
      "BornIn - <class 'str'>\n",
      "BirthDate - <class 'str'>\n"
     ]
    }
   ],
   "source": [
    "a.sutun_tipi()"
   ]
  },
  {
   "cell_type": "markdown",
   "metadata": {},
   "source": [
    "a.sutunyazdir()"
   ]
  },
  {
   "cell_type": "code",
   "execution_count": 3,
   "metadata": {},
   "outputs": [
    {
     "ename": "TypeError",
     "evalue": "int() argument must be a string, a bytes-like object or a number, not 'list'",
     "output_type": "error",
     "traceback": [
      "\u001b[1;31m---------------------------------------------------------------------------\u001b[0m",
      "\u001b[1;31mTypeError\u001b[0m                                 Traceback (most recent call last)",
      "\u001b[1;32m<ipython-input-3-fec7dafee214>\u001b[0m in \u001b[0;36m<module>\u001b[1;34m()\u001b[0m\n\u001b[1;32m----> 1\u001b[1;33m \u001b[0ma\u001b[0m\u001b[1;33m.\u001b[0m\u001b[0mortalama\u001b[0m\u001b[1;33m(\u001b[0m\u001b[1;33m)\u001b[0m\u001b[1;33m\u001b[0m\u001b[0m\n\u001b[0m",
      "\u001b[1;32m<ipython-input-1-9f27ba40ab4a>\u001b[0m in \u001b[0;36mortalama\u001b[1;34m(self)\u001b[0m\n\u001b[0;32m     86\u001b[0m         \u001b[1;32mfor\u001b[0m \u001b[0mx\u001b[0m \u001b[1;32min\u001b[0m \u001b[0mis_digi\u001b[0m\u001b[1;33m:\u001b[0m\u001b[1;33m\u001b[0m\u001b[0m\n\u001b[0;32m     87\u001b[0m             \u001b[1;32mfor\u001b[0m \u001b[0mrow\u001b[0m \u001b[1;32min\u001b[0m \u001b[0mdata2\u001b[0m\u001b[1;33m[\u001b[0m\u001b[0mx\u001b[0m\u001b[1;33m]\u001b[0m\u001b[1;33m:\u001b[0m\u001b[1;33m\u001b[0m\u001b[0m\n\u001b[1;32m---> 88\u001b[1;33m                 \u001b[0mdata2\u001b[0m\u001b[1;33m[\u001b[0m\u001b[0mx\u001b[0m\u001b[1;33m]\u001b[0m\u001b[1;33m=\u001b[0m\u001b[0mint\u001b[0m\u001b[1;33m(\u001b[0m\u001b[0mdata2\u001b[0m\u001b[1;33m[\u001b[0m\u001b[0mx\u001b[0m\u001b[1;33m]\u001b[0m\u001b[1;33m)\u001b[0m\u001b[1;33m\u001b[0m\u001b[0m\n\u001b[0m\u001b[0;32m     89\u001b[0m                 \u001b[0mortalama\u001b[0m\u001b[1;33m.\u001b[0m\u001b[0mappend\u001b[0m\u001b[1;33m(\u001b[0m\u001b[0mdata2\u001b[0m\u001b[1;33m[\u001b[0m\u001b[0mx\u001b[0m\u001b[1;33m]\u001b[0m\u001b[1;33m)\u001b[0m\u001b[1;33m\u001b[0m\u001b[0m\n\u001b[0;32m     90\u001b[0m \u001b[1;33m\u001b[0m\u001b[0m\n",
      "\u001b[1;31mTypeError\u001b[0m: int() argument must be a string, a bytes-like object or a number, not 'list'"
     ]
    }
   ],
   "source": [
    "a.ortalama()"
   ]
  },
  {
   "cell_type": "code",
   "execution_count": null,
   "metadata": {},
   "outputs": [],
   "source": []
  }
 ],
 "metadata": {
  "kernelspec": {
   "display_name": "Python 3",
   "language": "python",
   "name": "python3"
  },
  "language_info": {
   "codemirror_mode": {
    "name": "ipython",
    "version": 3
   },
   "file_extension": ".py",
   "mimetype": "text/x-python",
   "name": "python",
   "nbconvert_exporter": "python",
   "pygments_lexer": "ipython3",
   "version": "3.7.0"
  }
 },
 "nbformat": 4,
 "nbformat_minor": 2
}
